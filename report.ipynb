{
 "cells": [
  {
   "cell_type": "code",
   "execution_count": null,
   "id": "d4814684",
   "metadata": {},
   "outputs": [],
   "source": [
    "import sys\n",
    "sys.path.append('./src')\n",
    "\n",
    "import io_utils\n",
    "import metrics\n",
    "\n",
    "df = io_utils.get_df()\n",
    "\n",
    "df.info()\n",
    "\n",
    "#df.head()"
   ]
  },
  {
   "cell_type": "markdown",
   "id": "7d2d071e",
   "metadata": {},
   "source": [
    "### 1. Vad säljer vi? – vilka kategorier driver mest intäkt?\n",
    "- Kategorier 'Electronics', 'Sports' respektive ' Clothing' driver mest intäkt."
   ]
  },
  {
   "cell_type": "code",
   "execution_count": null,
   "id": "27444312",
   "metadata": {},
   "outputs": [],
   "source": [
    "from metrics import unique_products, category_revenue\n",
    "\n",
    "print(f\"Vi säljer följande unika kategorier: \\n {unique_products}\")\n",
    "\n",
    "print(f\"\\nIntäkt per kategori: \\n {category_revenue}\")"
   ]
  },
  {
   "cell_type": "code",
   "execution_count": null,
   "id": "e25213fa",
   "metadata": {},
   "outputs": [],
   "source": [
    "import matplotlib.pyplot as plt\n",
    "\n",
    "\n",
    "fig, ax =plt.subplots()\n",
    "category_revenue.plot(kind=\"bar\", ax=ax)\n",
    "ax.set_title(\"Intäkt per kategorie\")\n",
    "ax.set_xlabel(\"Kategorie\")\n",
    "ax.set_ylabel(\"Intäkt\")\n",
    "ax.grid(True, axis='y')\n",
    "plt.tight_layout()\n",
    "plt.show()"
   ]
  },
  {
   "cell_type": "markdown",
   "id": "4f79ec18",
   "metadata": {},
   "source": [
    "### 2. Var säljer vi? – vilka städer står för störst intäkt?\n",
    "- Stockholm, Göteborg respektive Malmö står för störst intakt"
   ]
  },
  {
   "cell_type": "code",
   "execution_count": null,
   "id": "1e05c194",
   "metadata": {},
   "outputs": [],
   "source": [
    "from metrics import units_per_city, top_cities, category_per_city\n",
    "top_cities # sum of revenue per city"
   ]
  },
  {
   "cell_type": "code",
   "execution_count": null,
   "id": "b53587a7",
   "metadata": {},
   "outputs": [],
   "source": [
    "units_per_city #sum of units per category and city"
   ]
  },
  {
   "cell_type": "code",
   "execution_count": null,
   "id": "ec7d0960",
   "metadata": {},
   "outputs": [],
   "source": [
    "category_per_city #sum of revenue per category and city."
   ]
  },
  {
   "cell_type": "code",
   "execution_count": null,
   "id": "419141a2",
   "metadata": {},
   "outputs": [],
   "source": [
    "fig, ax = plt.subplots()\n",
    "category_per_city.plot(kind='bar', ax=ax)\n",
    "ax.set_title(\"Intäkter per stad och kategori\")\n",
    "ax.set_xlabel(\"Stad\")\n",
    "ax.set_ylabel(\"Intäkt\")\n",
    "ax.grid(True, axis='y')\n",
    "plt.tight_layout()\n",
    "plt.show()"
   ]
  },
  {
   "cell_type": "markdown",
   "id": "f3af9450",
   "metadata": {},
   "source": [
    "### 3. När säljer vi? – finns tidsmönster/säsong i försäljningen?\n",
    "- "
   ]
  },
  {
   "cell_type": "code",
   "execution_count": null,
   "id": "7d035c0b",
   "metadata": {},
   "outputs": [],
   "source": [
    "import matplotlib.pyplot as plt\n",
    "import metrics\n",
    "\n",
    "from metrics import revenue_by_month\n",
    "\n",
    "\n",
    "rev_month = revenue_by_month\n",
    "\n",
    "\n",
    "month_names = ['Jan', 'Feb', 'Mar', 'Apr', 'Maj', 'Jun', \n",
    "               'Jul', 'Aug', 'Sep', 'Okt', 'Nov', 'Dec']\n",
    "\n",
    "rev_month.index = [month_names[int(m)-1] if str(m).isdigit() else m for m in rev_month.index]\n",
    "rev_month.plot(kind='bar', title='Intäkt per månad')\n",
    "plt.ylabel('Intäkt')\n",
    "plt.show()"
   ]
  },
  {
   "cell_type": "code",
   "execution_count": null,
   "id": "df0e23f2",
   "metadata": {},
   "outputs": [],
   "source": [
    "from metrics import revenue_by_day, revenue_by_month\n",
    "print(revenue_by_month)\n",
    "print()\n",
    "print(revenue_by_day)"
   ]
  },
  {
   "cell_type": "markdown",
   "id": "fed1958a",
   "metadata": {},
   "source": [
    "### 4. Hur ser en typisk order ut? – AOV (Average Order Value) och spridning.\n",
    "- "
   ]
  },
  {
   "cell_type": "code",
   "execution_count": null,
   "id": "22ed2559",
   "metadata": {},
   "outputs": [],
   "source": []
  },
  {
   "cell_type": "markdown",
   "id": "f770c6b6",
   "metadata": {},
   "source": [
    "### 5. Topp-listor – topp-3 kategorier efter intäkt.\n",
    "- "
   ]
  },
  {
   "cell_type": "code",
   "execution_count": null,
   "id": "bce682d0",
   "metadata": {},
   "outputs": [],
   "source": []
  },
  {
   "cell_type": "markdown",
   "id": "ed92ab77",
   "metadata": {},
   "source": [
    "### 6. Eventuella avvikelser – något oväntat mönster som sticker ut?\n",
    "- "
   ]
  },
  {
   "cell_type": "code",
   "execution_count": null,
   "id": "b65cf451",
   "metadata": {},
   "outputs": [],
   "source": []
  },
  {
   "cell_type": "markdown",
   "id": "158ec678",
   "metadata": {},
   "source": [
    "### Rekommendationer:\n",
    "\n",
    "Ni ska avsluta rapporten med 2–3 korta rekommendationer (punktlista) baserat på era resultat, t.ex.\n",
    "- “Satsa på kategori X i stad Y under månad Z”."
   ]
  }
 ],
 "metadata": {
  "kernelspec": {
   "display_name": ".venv",
   "language": "python",
   "name": "python3"
  },
  "language_info": {
   "codemirror_mode": {
    "name": "ipython",
    "version": 3
   },
   "file_extension": ".py",
   "mimetype": "text/x-python",
   "name": "python",
   "nbconvert_exporter": "python",
   "pygments_lexer": "ipython3",
   "version": "3.13.7"
  }
 },
 "nbformat": 4,
 "nbformat_minor": 5
}
