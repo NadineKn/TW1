{
 "cells": [
  {
   "cell_type": "code",
   "execution_count": 1,
   "id": "d4814684",
   "metadata": {},
   "outputs": [
    {
     "name": "stdout",
     "output_type": "stream",
     "text": [
      "day\n",
      "9     156486.43\n",
      "4     142734.92\n",
      "23    137403.39\n",
      "7     134633.50\n",
      "25    130511.88\n",
      "21    129325.48\n",
      "10    128955.11\n",
      "26    128417.60\n",
      "17    128181.58\n",
      "16    127302.09\n",
      "27    126773.85\n",
      "1     125049.07\n",
      "3     118576.22\n",
      "29    116672.81\n",
      "18    113459.03\n",
      "13    113412.81\n",
      "6     112371.59\n",
      "24    109436.14\n",
      "28    108897.74\n",
      "19    108571.86\n",
      "8     107904.44\n",
      "22    105843.54\n",
      "20    104509.51\n",
      "15     97686.86\n",
      "2      97440.77\n",
      "12     94719.45\n",
      "5      86780.50\n",
      "14     86106.95\n",
      "11     84378.76\n",
      "30     81256.48\n",
      "31     58966.87\n",
      "Name: revenue, dtype: float64\n",
      "month\n",
      "1    664083.32\n",
      "5    632165.16\n",
      "6    590259.89\n",
      "4    580194.83\n",
      "2    548462.03\n",
      "3    487602.00\n",
      "Name: revenue, dtype: float64\n",
      "<class 'pandas.core.frame.DataFrame'>\n",
      "RangeIndex: 2500 entries, 0 to 2499\n",
      "Data columns (total 7 columns):\n",
      " #   Column    Non-Null Count  Dtype  \n",
      "---  ------    --------------  -----  \n",
      " 0   order_id  2500 non-null   int64  \n",
      " 1   date      2500 non-null   object \n",
      " 2   city      2500 non-null   object \n",
      " 3   category  2500 non-null   object \n",
      " 4   price     2500 non-null   float64\n",
      " 5   units     2500 non-null   int64  \n",
      " 6   revenue   2500 non-null   float64\n",
      "dtypes: float64(2), int64(2), object(3)\n",
      "memory usage: 136.8+ KB\n"
     ]
    }
   ],
   "source": [
    "import sys\n",
    "sys.path.append('./src')\n",
    "\n",
    "import io_utils\n",
    "import metrics\n",
    "\n",
    "df = io_utils.get_df()\n",
    "\n",
    "df.info()\n",
    "\n",
    "#df.head()"
   ]
  },
  {
   "cell_type": "markdown",
   "id": "7d2d071e",
   "metadata": {},
   "source": [
    "### 1. Vad säljer vi? – vilka kategorier driver mest intäkt?\n"
   ]
  },
  {
   "cell_type": "code",
   "execution_count": null,
   "id": "4096e290",
   "metadata": {},
   "outputs": [],
   "source": [
    "import pandas as pd\n",
    "import matplotlib.pyplot as plt\n",
    "df = pd.read_csv(\"data/ecommerce_sales.csv\")\n",
    "print(\"Vad vi säljer:\")\n",
    "print(df[\"category\"].unique())\n",
    "\n",
    "category_revenue = df.groupby(\"category\")[\"revenue\"].sum().sort_values(ascending=False)\n",
    "print(\"\\nIntäkt per kategori:\")\n",
    "print(category_revenue)\n",
    "\n",
    "category_revenue.plot(kind=\"bar\", title=\"Revenue per Category\")\n",
    "\n",
    "plt.xlabel(\"Category\")\n",
    "plt.ylabel(\"Revenue\")\n",
    "\n",
    "plt.grid(True, linestyle='-', linewidth=0.5)\n",
    "\n",
    "plt.tight_layout()\n",
    "plt.show()"
   ]
  },
  {
   "cell_type": "markdown",
   "id": "4f79ec18",
   "metadata": {},
   "source": [
    "### 2. Var säljer vi? – vilka städer står för störst intäkt?\n",
    "Stockholm, Göteborg respektive Malmö står för störst intakt"
   ]
  },
  {
   "cell_type": "code",
   "execution_count": null,
   "id": "1e05c194",
   "metadata": {},
   "outputs": [],
   "source": [
    "from metrics import units_per_city, top_cities\n",
    "top_cities"
   ]
  },
  {
   "cell_type": "code",
   "execution_count": null,
   "id": "b53587a7",
   "metadata": {},
   "outputs": [],
   "source": [
    "units_per_city"
   ]
  },
  {
   "cell_type": "markdown",
   "id": "f3af9450",
   "metadata": {},
   "source": [
    "### 3. När säljer vi? – finns tidsmönster/säsong i försäljningen?\n"
   ]
  },
  {
   "cell_type": "code",
   "execution_count": null,
   "id": "7d035c0b",
   "metadata": {},
   "outputs": [],
   "source": []
  },
  {
   "cell_type": "markdown",
   "id": "fed1958a",
   "metadata": {},
   "source": [
    "### 4. Hur ser en typisk order ut? – AOV (Average Order Value) och spridning.\n"
   ]
  },
  {
   "cell_type": "code",
   "execution_count": 5,
   "id": "22ed2559",
   "metadata": {},
   "outputs": [
    {
     "name": "stdout",
     "output_type": "stream",
     "text": [
      "Genomsnittligt ordervärde:    1401.106892\n",
      "Standardavvikelse:            1166.944967\n",
      "Lägsta ordervärdet:             50.000000\n",
      "Högsta ordervärdet:           9192.600000\n",
      "Name: revenue, dtype: float64\n"
     ]
    }
   ],
   "source": [
    "\n",
    "#AOV = df[\"revenue\"].mean()\n",
    "#AOV_std = df[\"revenue\"].std()\n",
    "#AOV_min = df[\"revenue\"].min()\n",
    "#AOV_max = df[\"revenue\"].max()\n",
    "\n",
    "\n",
    "#print(f\"Genomsnittligt ordervärde: {AOV}kr\")\n",
    "#print(f\"Standardavvikelse för ordervärdet: {AOV_std}kr\")\n",
    "#print(f\"Lägsta ordervärdet: {AOV_min}kr\")\n",
    "#print(f\"Högsta ordervärdet: {AOV_max}kr\")\n",
    "\n",
    "#order_value = df[\"revenue\"].agg([\"mean\", \"std\", \"min\", \"max\"])\n",
    "#print(order_value)\n",
    "\n",
    "order_value = (\n",
    "    df[\"revenue\"]\n",
    "    .agg([\"mean\", \"std\", \"min\", \"max\"])\n",
    "    .rename({\"mean\": \"Genomsnittligt ordervärde:\",\n",
    "             \"std\": \"Standardavvikelse:\",\n",
    "             \"min\": \"Lägsta ordervärdet:\",\n",
    "             \"max\": \"Högsta ordervärdet:\"\n",
    "             })\n",
    ")\n",
    "\n",
    "order_value.columns = [\"Revenue (kr)\"] #dubbelkolla vad jag ska döpa det till- om jag ens ska ha namn\n",
    "print(order_value)"
   ]
  },
  {
   "cell_type": "markdown",
   "id": "f770c6b6",
   "metadata": {},
   "source": [
    "### 5. Topp-listor – topp-3 kategorier efter intäkt.\n"
   ]
  },
  {
   "cell_type": "code",
   "execution_count": null,
   "id": "bce682d0",
   "metadata": {},
   "outputs": [],
   "source": []
  },
  {
   "cell_type": "markdown",
   "id": "ed92ab77",
   "metadata": {},
   "source": [
    "### 6. Eventuella avvikelser – något oväntat mönster som sticker ut?\n"
   ]
  },
  {
   "cell_type": "code",
   "execution_count": null,
   "id": "b65cf451",
   "metadata": {},
   "outputs": [],
   "source": []
  },
  {
   "cell_type": "markdown",
   "id": "158ec678",
   "metadata": {},
   "source": [
    "### Rekommendationer:\n",
    "\n",
    "Ni ska avsluta rapporten med 2–3 korta rekommendationer (punktlista) baserat på era resultat, t.ex. “Satsa på kategori X i stad Y under månad Z”."
   ]
  }
 ],
 "metadata": {
  "kernelspec": {
   "display_name": "Python 3",
   "language": "python",
   "name": "python3"
  },
  "language_info": {
   "codemirror_mode": {
    "name": "ipython",
    "version": 3
   },
   "file_extension": ".py",
   "mimetype": "text/x-python",
   "name": "python",
   "nbconvert_exporter": "python",
   "pygments_lexer": "ipython3",
   "version": "3.13.7"
  }
 },
 "nbformat": 4,
 "nbformat_minor": 5
}
