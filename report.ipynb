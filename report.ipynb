{
 "cells": [
  {
   "cell_type": "code",
   "execution_count": 45,
   "id": "d4814684",
   "metadata": {},
   "outputs": [
    {
     "name": "stdout",
     "output_type": "stream",
     "text": [
      "<class 'pandas.core.frame.DataFrame'>\n",
      "RangeIndex: 2500 entries, 0 to 2499\n",
      "Data columns (total 7 columns):\n",
      " #   Column    Non-Null Count  Dtype  \n",
      "---  ------    --------------  -----  \n",
      " 0   order_id  2500 non-null   int64  \n",
      " 1   date      2500 non-null   object \n",
      " 2   city      2500 non-null   object \n",
      " 3   category  2500 non-null   object \n",
      " 4   price     2500 non-null   float64\n",
      " 5   units     2500 non-null   int64  \n",
      " 6   revenue   2500 non-null   float64\n",
      "dtypes: float64(2), int64(2), object(3)\n",
      "memory usage: 136.8+ KB\n"
     ]
    }
   ],
   "source": [
    "import sys\n",
    "sys.path.append('./src')\n",
    "\n",
    "import io_utils\n",
    "import metrics\n",
    "\n",
    "df = io_utils.get_df()\n",
    "\n",
    "df.info()\n",
    "\n",
    "#df.head()"
   ]
  },
  {
   "cell_type": "markdown",
   "id": "7d2d071e",
   "metadata": {},
   "source": [
    "### 1. Vad säljer vi? – vilka kategorier driver mest intäkt?\n",
    "Kategorier 'Electronics', 'Sports' respektive ' Clothing' driver mest intäkt."
   ]
  },
  {
   "cell_type": "code",
   "execution_count": 46,
   "id": "27444312",
   "metadata": {},
   "outputs": [
    {
     "name": "stdout",
     "output_type": "stream",
     "text": [
      "Vi säljer följande unika kategorier: \n",
      " ['Sports' 'Clothing' 'Home' 'Electronics' 'Toys' 'Beauty']\n",
      "\n",
      "Intäkt per kategori: \n",
      " category\n",
      "Electronics    1364228.07\n",
      "Sports          734653.42\n",
      "Clothing        586744.91\n",
      "Home            511070.87\n",
      "Beauty          163053.97\n",
      "Toys            143015.99\n",
      "Name: revenue, dtype: float64\n"
     ]
    }
   ],
   "source": [
    "from metrics import unique_products, category_revenue\n",
    "\n",
    "print(f\"Vi säljer följande unika kategorier: \\n {unique_products}\")\n",
    "\n",
    "print(f\"\\nIntäkt per kategori: \\n {category_revenue}\")"
   ]
  },
  {
   "cell_type": "code",
   "execution_count": 47,
   "id": "e25213fa",
   "metadata": {},
   "outputs": [
    {
     "data": {
      "image/png": "[encoded data removed]",
      "text/plain": [
       "<Figure size 640x480 with 1 Axes>"
      ]
     },
     "metadata": {},
     "output_type": "display_data"
    }
   ],
   "source": [
    "import matplotlib.pyplot as plt\n",
    "\n",
    "\n",
    "fig, ax =plt.subplots()\n",
    "category_revenue.plot(kind=\"bar\", ax=ax)\n",
    "ax.set_title(\"Intäkt per kategorie\")\n",
    "ax.set_xlabel(\"Kategorie\")\n",
    "ax.set_ylabel(\"Intäkt\")\n",
    "ax.grid(True, axis='y')\n",
    "plt.tight_layout()\n",
    "plt.show()"
   ]
  },
  {
   "cell_type": "markdown",
   "id": "4f79ec18",
   "metadata": {},
   "source": [
    "### 2. Var säljer vi? – vilka städer står för störst intäkt?\n",
    "Stockholm, Göteborg respektive Malmö står för störst intakt"
   ]
  },
  {
   "cell_type": "code",
   "execution_count": 48,
   "id": "1e05c194",
   "metadata": {},
   "outputs": [
    {
     "data": {
      "application/vnd.microsoft.datawrangler.viewer.v0+json": {
       "columns": [
        {
         "name": "city",
         "rawType": "object",
         "type": "string"
        },
        {
         "name": "revenue",
         "rawType": "float64",
         "type": "float"
        }
       ],
       "ref": "86708ada-9c9f-4a7c-a8b0-74baab746b2c",
       "rows": [
        [
         "Stockholm",
         "1227201.94"
        ],
        [
         "Göteborg",
         "859019.65"
        ],
        [
         "Malmö",
         "567926.32"
        ],
        [
         "Uppsala",
         "551478.42"
        ],
        [
         "Västerås",
         "297140.9"
        ]
       ],
       "shape": {
        "columns": 1,
        "rows": 5
       }
      },
      "text/html": [
       "<div>\n",
       "<style scoped>\n",
       "    .dataframe tbody tr th:only-of-type {\n",
       "        vertical-align: middle;\n",
       "    }\n",
       "\n",
       "    .dataframe tbody tr th {\n",
       "        vertical-align: top;\n",
       "    }\n",
       "\n",
       "    .dataframe thead th {\n",
       "        text-align: right;\n",
       "    }\n",
       "</style>\n",
       "<table border=\"1\" class=\"dataframe\">\n",
       "  <thead>\n",
       "    <tr style=\"text-align: right;\">\n",
       "      <th></th>\n",
       "      <th>revenue</th>\n",
       "    </tr>\n",
       "    <tr>\n",
       "      <th>city</th>\n",
       "      <th></th>\n",
       "    </tr>\n",
       "  </thead>\n",
       "  <tbody>\n",
       "    <tr>\n",
       "      <th>Stockholm</th>\n",
       "      <td>1227201.94</td>\n",
       "    </tr>\n",
       "    <tr>\n",
       "      <th>Göteborg</th>\n",
       "      <td>859019.65</td>\n",
       "    </tr>\n",
       "    <tr>\n",
       "      <th>Malmö</th>\n",
       "      <td>567926.32</td>\n",
       "    </tr>\n",
       "    <tr>\n",
       "      <th>Uppsala</th>\n",
       "      <td>551478.42</td>\n",
       "    </tr>\n",
       "    <tr>\n",
       "      <th>Västerås</th>\n",
       "      <td>297140.90</td>\n",
       "    </tr>\n",
       "  </tbody>\n",
       "</table>\n",
       "</div>"
      ],
      "text/plain": [
       "              revenue\n",
       "city                 \n",
       "Stockholm  1227201.94\n",
       "Göteborg    859019.65\n",
       "Malmö       567926.32\n",
       "Uppsala     551478.42\n",
       "Västerås    297140.90"
      ]
     },
     "execution_count": 48,
     "metadata": {},
     "output_type": "execute_result"
    }
   ],
   "source": [
    "from metrics import units_per_city, top_cities, category_per_city\n",
    "top_cities # sum of revenue per city"
   ]
  },
  {
   "cell_type": "code",
   "execution_count": 49,
   "id": "b53587a7",
   "metadata": {},
   "outputs": [
    {
     "data": {
      "application/vnd.microsoft.datawrangler.viewer.v0+json": {
       "columns": [
        {
         "name": "city",
         "rawType": "object",
         "type": "string"
        },
        {
         "name": "Beauty",
         "rawType": "int64",
         "type": "integer"
        },
        {
         "name": "Clothing",
         "rawType": "int64",
         "type": "integer"
        },
        {
         "name": "Electronics",
         "rawType": "int64",
         "type": "integer"
        },
        {
         "name": "Home",
         "rawType": "int64",
         "type": "integer"
        },
        {
         "name": "Sports",
         "rawType": "int64",
         "type": "integer"
        },
        {
         "name": "Toys",
         "rawType": "int64",
         "type": "integer"
        }
       ],
       "ref": "96f5612f-6b91-4ba9-9239-261f264b8130",
       "rows": [
        [
         "Göteborg",
         "162",
         "338",
         "425",
         "364",
         "341",
         "158"
        ],
        [
         "Malmö",
         "95",
         "228",
         "313",
         "215",
         "247",
         "113"
        ],
        [
         "Stockholm",
         "223",
         "574",
         "599",
         "419",
         "539",
         "265"
        ],
        [
         "Uppsala",
         "99",
         "303",
         "293",
         "171",
         "178",
         "121"
        ],
        [
         "Västerås",
         "80",
         "212",
         "123",
         "109",
         "96",
         "60"
        ]
       ],
       "shape": {
        "columns": 6,
        "rows": 5
       }
      },
      "text/html": [
       "<div>\n",
       "<style scoped>\n",
       "    .dataframe tbody tr th:only-of-type {\n",
       "        vertical-align: middle;\n",
       "    }\n",
       "\n",
       "    .dataframe tbody tr th {\n",
       "        vertical-align: top;\n",
       "    }\n",
       "\n",
       "    .dataframe thead th {\n",
       "        text-align: right;\n",
       "    }\n",
       "</style>\n",
       "<table border=\"1\" class=\"dataframe\">\n",
       "  <thead>\n",
       "    <tr style=\"text-align: right;\">\n",
       "      <th>category</th>\n",
       "      <th>Beauty</th>\n",
       "      <th>Clothing</th>\n",
       "      <th>Electronics</th>\n",
       "      <th>Home</th>\n",
       "      <th>Sports</th>\n",
       "      <th>Toys</th>\n",
       "    </tr>\n",
       "    <tr>\n",
       "      <th>city</th>\n",
       "      <th></th>\n",
       "      <th></th>\n",
       "      <th></th>\n",
       "      <th></th>\n",
       "      <th></th>\n",
       "      <th></th>\n",
       "    </tr>\n",
       "  </thead>\n",
       "  <tbody>\n",
       "    <tr>\n",
       "      <th>Göteborg</th>\n",
       "      <td>162</td>\n",
       "      <td>338</td>\n",
       "      <td>425</td>\n",
       "      <td>364</td>\n",
       "      <td>341</td>\n",
       "      <td>158</td>\n",
       "    </tr>\n",
       "    <tr>\n",
       "      <th>Malmö</th>\n",
       "      <td>95</td>\n",
       "      <td>228</td>\n",
       "      <td>313</td>\n",
       "      <td>215</td>\n",
       "      <td>247</td>\n",
       "      <td>113</td>\n",
       "    </tr>\n",
       "    <tr>\n",
       "      <th>Stockholm</th>\n",
       "      <td>223</td>\n",
       "      <td>574</td>\n",
       "      <td>599</td>\n",
       "      <td>419</td>\n",
       "      <td>539</td>\n",
       "      <td>265</td>\n",
       "    </tr>\n",
       "    <tr>\n",
       "      <th>Uppsala</th>\n",
       "      <td>99</td>\n",
       "      <td>303</td>\n",
       "      <td>293</td>\n",
       "      <td>171</td>\n",
       "      <td>178</td>\n",
       "      <td>121</td>\n",
       "    </tr>\n",
       "    <tr>\n",
       "      <th>Västerås</th>\n",
       "      <td>80</td>\n",
       "      <td>212</td>\n",
       "      <td>123</td>\n",
       "      <td>109</td>\n",
       "      <td>96</td>\n",
       "      <td>60</td>\n",
       "    </tr>\n",
       "  </tbody>\n",
       "</table>\n",
       "</div>"
      ],
      "text/plain": [
       "category   Beauty  Clothing  Electronics  Home  Sports  Toys\n",
       "city                                                        \n",
       "Göteborg      162       338          425   364     341   158\n",
       "Malmö          95       228          313   215     247   113\n",
       "Stockholm     223       574          599   419     539   265\n",
       "Uppsala        99       303          293   171     178   121\n",
       "Västerås       80       212          123   109      96    60"
      ]
     },
     "execution_count": 49,
     "metadata": {},
     "output_type": "execute_result"
    }
   ],
   "source": [
    "units_per_city #sum of units per category and city"
   ]
  },
  {
   "cell_type": "code",
   "execution_count": 50,
   "id": "ec7d0960",
   "metadata": {},
   "outputs": [
    {
     "data": {
      "application/vnd.microsoft.datawrangler.viewer.v0+json": {
       "columns": [
        {
         "name": "city",
         "rawType": "object",
         "type": "string"
        },
        {
         "name": "Beauty",
         "rawType": "float64",
         "type": "float"
        },
        {
         "name": "Clothing",
         "rawType": "float64",
         "type": "float"
        },
        {
         "name": "Electronics",
         "rawType": "float64",
         "type": "float"
        },
        {
         "name": "Home",
         "rawType": "float64",
         "type": "float"
        },
        {
         "name": "Sports",
         "rawType": "float64",
         "type": "float"
        },
        {
         "name": "Toys",
         "rawType": "float64",
         "type": "float"
        }
       ],
       "ref": "4db111b3-10dc-493e-b5ad-ad052ccf28e2",
       "rows": [
        [
         "Göteborg",
         "42693.2",
         "128566.21",
         "340629.3",
         "137851.89",
         "173114.38999999998",
         "36164.659999999996"
        ],
        [
         "Malmö",
         "22151.71",
         "77554.64",
         "234714.72",
         "89276.45",
         "123529.31999999999",
         "20699.48"
        ],
        [
         "Stockholm",
         "50001.83",
         "206055.77",
         "457852.44",
         "166671.91",
         "292130.97",
         "54489.02"
        ],
        [
         "Uppsala",
         "27956.39",
         "102399.82",
         "236362.78",
         "71514.22",
         "92307.53",
         "20937.68"
        ],
        [
         "Västerås",
         "20250.84",
         "72168.47",
         "94668.83",
         "45756.4",
         "53571.21",
         "10725.15"
        ]
       ],
       "shape": {
        "columns": 6,
        "rows": 5
       }
      },
      "text/html": [
       "<div>\n",
       "<style scoped>\n",
       "    .dataframe tbody tr th:only-of-type {\n",
       "        vertical-align: middle;\n",
       "    }\n",
       "\n",
       "    .dataframe tbody tr th {\n",
       "        vertical-align: top;\n",
       "    }\n",
       "\n",
       "    .dataframe thead th {\n",
       "        text-align: right;\n",
       "    }\n",
       "</style>\n",
       "<table border=\"1\" class=\"dataframe\">\n",
       "  <thead>\n",
       "    <tr style=\"text-align: right;\">\n",
       "      <th>category</th>\n",
       "      <th>Beauty</th>\n",
       "      <th>Clothing</th>\n",
       "      <th>Electronics</th>\n",
       "      <th>Home</th>\n",
       "      <th>Sports</th>\n",
       "      <th>Toys</th>\n",
       "    </tr>\n",
       "    <tr>\n",
       "      <th>city</th>\n",
       "      <th></th>\n",
       "      <th></th>\n",
       "      <th></th>\n",
       "      <th></th>\n",
       "      <th></th>\n",
       "      <th></th>\n",
       "    </tr>\n",
       "  </thead>\n",
       "  <tbody>\n",
       "    <tr>\n",
       "      <th>Göteborg</th>\n",
       "      <td>42693.20</td>\n",
       "      <td>128566.21</td>\n",
       "      <td>340629.30</td>\n",
       "      <td>137851.89</td>\n",
       "      <td>173114.39</td>\n",
       "      <td>36164.66</td>\n",
       "    </tr>\n",
       "    <tr>\n",
       "      <th>Malmö</th>\n",
       "      <td>22151.71</td>\n",
       "      <td>77554.64</td>\n",
       "      <td>234714.72</td>\n",
       "      <td>89276.45</td>\n",
       "      <td>123529.32</td>\n",
       "      <td>20699.48</td>\n",
       "    </tr>\n",
       "    <tr>\n",
       "      <th>Stockholm</th>\n",
       "      <td>50001.83</td>\n",
       "      <td>206055.77</td>\n",
       "      <td>457852.44</td>\n",
       "      <td>166671.91</td>\n",
       "      <td>292130.97</td>\n",
       "      <td>54489.02</td>\n",
       "    </tr>\n",
       "    <tr>\n",
       "      <th>Uppsala</th>\n",
       "      <td>27956.39</td>\n",
       "      <td>102399.82</td>\n",
       "      <td>236362.78</td>\n",
       "      <td>71514.22</td>\n",
       "      <td>92307.53</td>\n",
       "      <td>20937.68</td>\n",
       "    </tr>\n",
       "    <tr>\n",
       "      <th>Västerås</th>\n",
       "      <td>20250.84</td>\n",
       "      <td>72168.47</td>\n",
       "      <td>94668.83</td>\n",
       "      <td>45756.40</td>\n",
       "      <td>53571.21</td>\n",
       "      <td>10725.15</td>\n",
       "    </tr>\n",
       "  </tbody>\n",
       "</table>\n",
       "</div>"
      ],
      "text/plain": [
       "category     Beauty   Clothing  Electronics       Home     Sports      Toys\n",
       "city                                                                       \n",
       "Göteborg   42693.20  128566.21    340629.30  137851.89  173114.39  36164.66\n",
       "Malmö      22151.71   77554.64    234714.72   89276.45  123529.32  20699.48\n",
       "Stockholm  50001.83  206055.77    457852.44  166671.91  292130.97  54489.02\n",
       "Uppsala    27956.39  102399.82    236362.78   71514.22   92307.53  20937.68\n",
       "Västerås   20250.84   72168.47     94668.83   45756.40   53571.21  10725.15"
      ]
     },
     "execution_count": 50,
     "metadata": {},
     "output_type": "execute_result"
    }
   ],
   "source": [
    "category_per_city #sum of revenue per category and city."
   ]
  },
  {
   "cell_type": "code",
   "execution_count": 51,
   "id": "419141a2",
   "metadata": {},
   "outputs": [
    {
     "data": {
      "image/png": "[encoded data removed]",
      "text/plain": [
       "<Figure size 640x480 with 1 Axes>"
      ]
     },
     "metadata": {},
     "output_type": "display_data"
    }
   ],
   "source": [
    "fig, ax = plt.subplots()\n",
    "category_per_city.plot(kind='bar', ax=ax)\n",
    "ax.set_title(\"Intäkter per stad och kategori\")\n",
    "ax.set_xlabel(\"Stad\")\n",
    "ax.set_ylabel(\"Intäkt\")\n",
    "ax.grid(True, axis='y')\n",
    "plt.tight_layout()\n",
    "plt.show()"
   ]
  },
  {
   "cell_type": "markdown",
   "id": "f3af9450",
   "metadata": {},
   "source": [
    "### 3. När säljer vi? – finns tidsmönster/säsong i försäljningen?\n"
   ]
  },
  {
   "cell_type": "code",
   "execution_count": 52,
   "id": "7d035c0b",
   "metadata": {},
   "outputs": [
    {
     "data": {
      "application/vnd.microsoft.datawrangler.viewer.v0+json": {
       "columns": [
        {
         "name": "month",
         "rawType": "int32",
         "type": "integer"
        },
        {
         "name": "revenue",
         "rawType": "float64",
         "type": "float"
        }
       ],
       "ref": "29370c34-9842-4ca6-be8e-6ce719e9bfaa",
       "rows": [
        [
         "6",
         "590259.89"
        ],
        [
         "5",
         "632165.16"
        ],
        [
         "4",
         "580194.83"
        ],
        [
         "3",
         "487602.0"
        ],
        [
         "2",
         "548462.03"
        ],
        [
         "1",
         "664083.32"
        ]
       ],
       "shape": {
        "columns": 1,
        "rows": 6
       }
      },
      "text/plain": [
       "month\n",
       "6    590259.89\n",
       "5    632165.16\n",
       "4    580194.83\n",
       "3    487602.00\n",
       "2    548462.03\n",
       "1    664083.32\n",
       "Name: revenue, dtype: float64"
      ]
     },
     "execution_count": 52,
     "metadata": {},
     "output_type": "execute_result"
    }
   ],
   "source": [
    "from metrics import revenue_by_month, revenue_by_day_of_month\n",
    "\n",
    "revenue_by_month # Shows the total revenue for the different months\n"
   ]
  },
  {
   "cell_type": "code",
   "execution_count": 53,
   "id": "df0e23f2",
   "metadata": {},
   "outputs": [
    {
     "data": {
      "application/vnd.microsoft.datawrangler.viewer.v0+json": {
       "columns": [
        {
         "name": "day",
         "rawType": "int32",
         "type": "integer"
        },
        {
         "name": "revenue",
         "rawType": "float64",
         "type": "float"
        }
       ],
       "ref": "05383a68-cd5e-46fe-9e5b-11727fc71ded",
       "rows": [
        [
         "9",
         "156486.43"
        ],
        [
         "4",
         "142734.92"
        ],
        [
         "23",
         "137403.39"
        ],
        [
         "7",
         "134633.5"
        ],
        [
         "25",
         "130511.88"
        ],
        [
         "21",
         "129325.48"
        ],
        [
         "10",
         "128955.11"
        ],
        [
         "26",
         "128417.6"
        ],
        [
         "17",
         "128181.58"
        ],
        [
         "16",
         "127302.09"
        ],
        [
         "27",
         "126773.85"
        ],
        [
         "1",
         "125049.07"
        ],
        [
         "3",
         "118576.22"
        ],
        [
         "29",
         "116672.81"
        ],
        [
         "18",
         "113459.03"
        ],
        [
         "13",
         "113412.81"
        ],
        [
         "6",
         "112371.59"
        ],
        [
         "24",
         "109436.14"
        ],
        [
         "28",
         "108897.74"
        ],
        [
         "19",
         "108571.86"
        ],
        [
         "8",
         "107904.44"
        ],
        [
         "22",
         "105843.54"
        ],
        [
         "20",
         "104509.51"
        ],
        [
         "15",
         "97686.86"
        ],
        [
         "2",
         "97440.77"
        ],
        [
         "12",
         "94719.45"
        ],
        [
         "5",
         "86780.5"
        ],
        [
         "14",
         "86106.95"
        ],
        [
         "11",
         "84378.76"
        ],
        [
         "30",
         "81256.48"
        ],
        [
         "31",
         "58966.87"
        ]
       ],
       "shape": {
        "columns": 1,
        "rows": 31
       }
      },
      "text/plain": [
       "day\n",
       "9     156486.43\n",
       "4     142734.92\n",
       "23    137403.39\n",
       "7     134633.50\n",
       "25    130511.88\n",
       "21    129325.48\n",
       "10    128955.11\n",
       "26    128417.60\n",
       "17    128181.58\n",
       "16    127302.09\n",
       "27    126773.85\n",
       "1     125049.07\n",
       "3     118576.22\n",
       "29    116672.81\n",
       "18    113459.03\n",
       "13    113412.81\n",
       "6     112371.59\n",
       "24    109436.14\n",
       "28    108897.74\n",
       "19    108571.86\n",
       "8     107904.44\n",
       "22    105843.54\n",
       "20    104509.51\n",
       "15     97686.86\n",
       "2      97440.77\n",
       "12     94719.45\n",
       "5      86780.50\n",
       "14     86106.95\n",
       "11     84378.76\n",
       "30     81256.48\n",
       "31     58966.87\n",
       "Name: revenue, dtype: float64"
      ]
     },
     "execution_count": 53,
     "metadata": {},
     "output_type": "execute_result"
    }
   ],
   "source": [
    "revenue_by_day_of_month # Shows the best selling days of the months"
   ]
  },
  {
   "cell_type": "code",
   "execution_count": 54,
   "id": "49ffe451",
   "metadata": {},
   "outputs": [
    {
     "data": {
      "image/png": "[encoded data removed]",
      "text/plain": [
       "<Figure size 640x480 with 1 Axes>"
      ]
     },
     "metadata": {},
     "output_type": "display_data"
    }
   ],
   "source": [
    "import matplotlib.pyplot as plt\n",
    "\n",
    "plt.plot(revenue_by_month.index, revenue_by_month.values)\n",
    "plt.xlabel(\"Month\")\n",
    "plt.ylabel(\"Revenue\")\n",
    "plt.title(\"Revenue by month\")\n",
    "plt.grid(True)\n",
    "plt.tight_layout()\n",
    "plt.show()\n"
   ]
  },
  {
   "cell_type": "code",
   "execution_count": 55,
   "id": "72a36ef4",
   "metadata": {},
   "outputs": [
    {
     "data": {
      "image/png": "[encoded data removed]",
      "text/plain": [
       "<Figure size 640x480 with 1 Axes>"
      ]
     },
     "metadata": {},
     "output_type": "display_data"
    }
   ],
   "source": [
    "plt.bar(revenue_by_day_of_month.index, revenue_by_day_of_month.values)\n",
    "plt.xlabel(\"Day\")\n",
    "plt.ylabel(\"Revenue\")\n",
    "plt.title(\"Best selling days of the months\")\n",
    "plt.grid(True)\n",
    "plt.tight_layout()\n",
    "plt.show()"
   ]
  },
  {
   "cell_type": "markdown",
   "id": "fed1958a",
   "metadata": {},
   "source": [
    "### 4. Hur ser en typisk order ut? – AOV (Average Order Value) och spridning.\n"
   ]
  },
  {
   "cell_type": "code",
   "execution_count": null,
   "id": "22ed2559",
   "metadata": {},
   "outputs": [
    {
     "name": "stdout",
     "output_type": "stream",
     "text": [
      "Genomsnittligt ordervärde: 1401 kr\n",
      "Standardavvikelse: 1166 kr\n",
      "Lägsta ordervärdet: 50 kr\n",
      "Högsta ordervärdet: 9192 kr\n"
     ]
    },
    {
     "data": {
      "image/png": "[encoded data removed]",
      "text/plain": [
       "<Figure size 1000x600 with 2 Axes>"
      ]
     },
     "metadata": {},
     "output_type": "display_data"
    }
   ],
   "source": [
    "\n",
    "# AOV, standard deviation, minimum and maximum order value\n",
    "order_value = df[\"revenue\"].agg([\"mean\", \"std\", \"min\", \"max\"])\n",
    "order_value.index = [\n",
    "        \"Genomsnittligt ordervärde:\",\n",
    "        \"Standardavvikelse:\",\n",
    "        \"Lägsta ordervärdet:\",\n",
    "        \"Högsta ordervärdet:\"\n",
    "    ]\n",
    "for name, value in order_value.astype(int).items():\n",
    "  print(f\"{name} {value} kr\")\n",
    "\n",
    "\n",
    "#Distribution of order values\n",
    "fig, (ax_hist, ax_box) = plt.subplots(2, 1, figsize=(10, 6), gridspec_kw={\"height_ratios\":[4,1]})\n",
    "\n",
    "ax_hist.hist(df[\"revenue\"], bins=50)\n",
    "ax_hist.set_title(\"Spridning av ordervärden\")\n",
    "\n",
    "ax_hist.set_ylabel(\"Antal ordrar\")\n",
    "ax_hist.grid(True, axis=\"y\")\n",
    "\n",
    "ax_box.boxplot(df[\"revenue\"], vert=False)\n",
    "ax_box.set_xlabel(\"Ordervärde (kr)\")\n",
    "ax_box.set_yticklabels(\"\")\n",
    "ax_box.grid(True, axis=\"x\")\n",
    "\n",
    "plt.tight_layout()\n",
    "\n"
   ]
  },
  {
   "cell_type": "markdown",
   "id": "f770c6b6",
   "metadata": {},
   "source": [
    "### 5. Topp-listor – topp-3 kategorier efter intäkt.\n"
   ]
  },
  {
   "cell_type": "code",
   "execution_count": 57,
   "id": "bce682d0",
   "metadata": {},
   "outputs": [
    {
     "ename": "NameError",
     "evalue": "name 'np' is not defined",
     "output_type": "error",
     "traceback": [
      "\u001b[31m---------------------------------------------------------------------------\u001b[39m",
      "\u001b[31mNameError\u001b[39m                                 Traceback (most recent call last)",
      "\u001b[36mCell\u001b[39m\u001b[36m \u001b[39m\u001b[32mIn[57]\u001b[39m\u001b[32m, line 9\u001b[39m\n\u001b[32m      7\u001b[39m \u001b[38;5;66;03m# Totala intäkten (avrundad uppåt till närmaste 500, med min 1000)\u001b[39;00m\n\u001b[32m      8\u001b[39m total = kategori_sum.sum()\n\u001b[32m----> \u001b[39m\u001b[32m9\u001b[39m total_rounded = \u001b[38;5;28mmax\u001b[39m(\u001b[32m1000\u001b[39m, \u001b[38;5;28mint\u001b[39m(\u001b[43mnp\u001b[49m.ceil(total / \u001b[32m500.0\u001b[39m) * \u001b[32m500\u001b[39m))\n\u001b[32m     11\u001b[39m \u001b[38;5;28mprint\u001b[39m(\u001b[33m\"\u001b[39m\u001b[33mTop 3 kategorier baserat på omsättning:\u001b[39m\u001b[33m\"\u001b[39m)\n\u001b[32m     12\u001b[39m \u001b[38;5;28mprint\u001b[39m(top3)\n",
      "\u001b[31mNameError\u001b[39m: name 'np' is not defined"
     ]
    }
   ],
   "source": [
    "# Summera intäkt per kategori\n",
    "kategori_sum = df.groupby(\"category\")[\"revenue\"].sum()\n",
    "\n",
    "# Plocka fram topp 3\n",
    "top3 = kategori_sum.nlargest(3)\n",
    "\n",
    "# Totala intäkten (avrundad uppåt till närmaste 500, med min 1000)\n",
    "total = kategori_sum.sum()\n",
    "total_rounded = max(1000, int(np.ceil(total / 500.0) * 500))\n",
    "\n",
    "print(\"Top 3 kategorier baserat på omsättning:\")\n",
    "print(top3)\n",
    "print(f\"\\nTotal omsättning: {total} (avrundad till {total_rounded})\")"
   ]
  },
  {
   "cell_type": "markdown",
   "id": "ed92ab77",
   "metadata": {},
   "source": [
    "### 6. Eventuella avvikelser – något oväntat mönster som sticker ut?\n"
   ]
  },
  {
   "cell_type": "code",
   "execution_count": null,
   "id": "b65cf451",
   "metadata": {},
   "outputs": [],
   "source": []
  },
  {
   "cell_type": "markdown",
   "id": "158ec678",
   "metadata": {},
   "source": [
    "### Rekommendationer:\n",
    "\n",
    "Ni ska avsluta rapporten med 2–3 korta rekommendationer (punktlista) baserat på era resultat, t.ex. “Satsa på kategori X i stad Y under månad Z”."
   ]
  }
 ],
 "metadata": {
  "kernelspec": {
   "display_name": "Python 3",
   "language": "python",
   "name": "python3"
  },
  "language_info": {
   "codemirror_mode": {
    "name": "ipython",
    "version": 3
   },
   "file_extension": ".py",
   "mimetype": "text/x-python",
   "name": "python",
   "nbconvert_exporter": "python",
   "pygments_lexer": "ipython3",
   "version": "3.13.7"
  }
 },
 "nbformat": 4,
 "nbformat_minor": 5
}
