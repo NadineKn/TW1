{
 "cells": [
  {
   "cell_type": "code",
   "execution_count": null,
   "id": "d4814684",
   "metadata": {},
   "outputs": [],
   "source": [
    "import sys\n",
    "sys.path.append('./src')\n",
    "\n",
    "import io_utils\n",
    "import metrics\n",
    "\n",
    "df = io_utils.get_df()\n",
    "\n",
    "df.info()\n",
    "\n",
    "#df.head()"
   ]
  },
  {
   "cell_type": "markdown",
   "id": "7d2d071e",
   "metadata": {},
   "source": [
    "### 1. Vad säljer vi? – vilka kategorier driver mest intäkt?\n",
    "Kategorier 'Electronics', 'Sports' respektive ' Clothing' driver mest intäkt."
   ]
  },
  {
   "cell_type": "code",
   "execution_count": null,
   "id": "27444312",
   "metadata": {},
   "outputs": [],
   "source": [
    "from metrics import unique_products, category_revenue\n",
    "\n",
    "print(f\"Vi säljer följande unika kategorier: \\n {unique_products}\")\n",
    "\n",
    "print(f\"\\nIntäkt per kategori: \\n {category_revenue}\")"
   ]
  },
  {
   "cell_type": "code",
   "execution_count": null,
   "id": "e25213fa",
   "metadata": {},
   "outputs": [],
   "source": [
    "import matplotlib.pyplot as plt\n",
    "\n",
    "\n",
    "fig, ax =plt.subplots()\n",
    "category_revenue.plot(kind=\"bar\", ax=ax)\n",
    "ax.set_title(\"Intäkt per kategorie\")\n",
    "ax.set_xlabel(\"Kategorie\")\n",
    "ax.set_ylabel(\"Intäkt\")\n",
    "ax.grid(True, axis='y')\n",
    "plt.tight_layout()\n",
    "plt.show()"
   ]
  },
  {
   "cell_type": "markdown",
   "id": "4f79ec18",
   "metadata": {},
   "source": [
    "### 2. Var säljer vi? – vilka städer står för störst intäkt?\n",
    "Stockholm, Göteborg respektive Malmö står för störst intakt"
   ]
  },
  {
   "cell_type": "code",
   "execution_count": null,
   "id": "1e05c194",
   "metadata": {},
   "outputs": [],
   "source": [
    "from metrics import units_per_city, top_cities, category_per_city\n",
    "top_cities # sum of revenue per city"
   ]
  },
  {
   "cell_type": "code",
   "execution_count": null,
   "id": "b53587a7",
   "metadata": {},
   "outputs": [],
   "source": [
    "units_per_city #sum of units per category and city"
   ]
  },
  {
   "cell_type": "code",
   "execution_count": null,
   "id": "ec7d0960",
   "metadata": {},
   "outputs": [],
   "source": [
    "category_per_city #sum of revenue per category and city."
   ]
  },
  {
   "cell_type": "code",
   "execution_count": null,
   "id": "419141a2",
   "metadata": {},
   "outputs": [],
   "source": [
    "fig, ax = plt.subplots()\n",
    "category_per_city.plot(kind='bar', ax=ax)\n",
    "ax.set_title(\"Intäkter per stad och kategori\")\n",
    "ax.set_xlabel(\"Stad\")\n",
    "ax.set_ylabel(\"Intäkt\")\n",
    "ax.grid(True, axis='y')\n",
    "plt.tight_layout()\n",
    "plt.show()"
   ]
  },
  {
   "cell_type": "markdown",
   "id": "f3af9450",
   "metadata": {},
   "source": [
    "### 3. När säljer vi? – finns tidsmönster/säsong i försäljningen?\n"
   ]
  },
  {
   "cell_type": "code",
   "execution_count": null,
   "id": "7d035c0b",
   "metadata": {},
   "outputs": [],
   "source": [
    "from metrics import revenue_by_month, revenue_by_day_of_month\n",
    "\n",
    "revenue_by_month # Shows the total revenue for the different months\n"
   ]
  },
  {
   "cell_type": "code",
   "execution_count": null,
   "id": "df0e23f2",
   "metadata": {},
   "outputs": [],
   "source": [
    "revenue_by_day_of_month # Shows the best selling days of the months"
   ]
  },
  {
   "cell_type": "code",
   "execution_count": null,
   "id": "49ffe451",
   "metadata": {},
   "outputs": [],
   "source": [
    "import matplotlib.pyplot as plt\n",
    "\n",
    "plt.plot(revenue_by_month.index, revenue_by_month.values)\n",
    "plt.xlabel(\"Month\")\n",
    "plt.ylabel(\"Revenue\")\n",
    "plt.title(\"Revenue by month\")\n",
    "plt.grid(True)\n",
    "plt.tight_layout()\n",
    "plt.show()\n"
   ]
  },
  {
   "cell_type": "code",
   "execution_count": null,
   "id": "72a36ef4",
   "metadata": {},
   "outputs": [],
   "source": [
    "plt.bar(revenue_by_day_of_month.index, revenue_by_day_of_month.values)\n",
    "plt.xlabel(\"Day\")\n",
    "plt.ylabel(\"Revenue\")\n",
    "plt.title(\"Best selling days of the months\")\n",
    "plt.grid(True)\n",
    "plt.tight_layout()\n",
    "plt.show()"
   ]
  },
  {
   "cell_type": "markdown",
   "id": "fed1958a",
   "metadata": {},
   "source": [
    "### 4. Hur ser en typisk order ut? – AOV (Average Order Value) och spridning.\n"
   ]
  },
  {
   "cell_type": "code",
   "execution_count": null,
   "id": "22ed2559",
   "metadata": {},
   "outputs": [],
   "source": [
    "\n",
    "# AOV, standard deviation, minimum and maximum order value\n",
    "order_value = df[\"revenue\"].agg([\"mean\", \"std\", \"min\", \"max\"])\n",
    "order_value.index = [\n",
    "        \"Genomsnittligt ordervärde:\",\n",
    "        \"Standardavvikelse:\",\n",
    "        \"Lägsta ordervärdet:\",\n",
    "        \"Högsta ordervärdet:\"\n",
    "    ]\n",
    "for name, value in order_value.astype(int).items():\n",
    "  print(f\"{name} {value} kr\")\n",
    "\n",
    "\n",
    "#Distribution of order values\n",
    "fig, (ax_hist, ax_box) = plt.subplots(2, 1, figsize=(10, 6), gridspec_kw={\"height_ratios\":[4,1]})\n",
    "\n",
    "ax_hist.hist(df[\"revenue\"], bins=50)\n",
    "ax_hist.set_title(\"Spridning av ordervärden\")\n",
    "\n",
    "ax_hist.set_ylabel(\"Antal ordrar\")\n",
    "ax_hist.grid(True, axis=\"y\")\n",
    "\n",
    "ax_box.boxplot(df[\"revenue\"], vert=False)\n",
    "ax_box.set_xlabel(\"Ordervärde (kr)\")\n",
    "ax_box.set_yticklabels(\"\")\n",
    "ax_box.grid(True, axis=\"x\")\n",
    "\n",
    "plt.tight_layout()\n",
    "\n"
   ]
  },
  {
   "cell_type": "markdown",
   "id": "f770c6b6",
   "metadata": {},
   "source": [
    "### 5. Topp-listor – topp-3 kategorier efter intäkt.\n"
   ]
  },
  {
   "cell_type": "code",
   "execution_count": null,
   "id": "bce682d0",
   "metadata": {},
   "outputs": [],
   "source": [
    "# Summera intäkt per kategori\n",
    "kategori_sum = df.groupby(\"category\")[\"revenue\"].sum()\n",
    "\n",
    "# Plocka fram topp 3\n",
    "top3 = kategori_sum.nlargest(3)\n",
    "\n",
    "# Totala intäkten (avrundad uppåt till närmaste 500, med min 1000)\n",
    "total = kategori_sum.sum()\n",
    "total_rounded = max(1000, int(np.ceil(total / 500.0) * 500))\n",
    "\n",
    "print(\"Top 3 kategorier baserat på omsättning:\")\n",
    "print(top3)\n",
    "print(f\"\\nTotal omsättning: {total} (avrundad till {total_rounded})\")"
   ]
  },
  {
   "cell_type": "markdown",
   "id": "ed92ab77",
   "metadata": {},
   "source": [
    "### 6. Eventuella avvikelser – något oväntat mönster som sticker ut?\n"
   ]
  },
  {
   "cell_type": "code",
   "execution_count": null,
   "id": "b65cf451",
   "metadata": {},
   "outputs": [],
   "source": []
  },
  {
   "cell_type": "markdown",
   "id": "158ec678",
   "metadata": {},
   "source": [
    "### Rekommendationer:\n",
    "\n",
    "Ni ska avsluta rapporten med 2–3 korta rekommendationer (punktlista) baserat på era resultat, t.ex. “Satsa på kategori X i stad Y under månad Z”."
   ]
  }
 ],
 "metadata": {
  "kernelspec": {
   "display_name": "Python 3",
   "language": "python",
   "name": "python3"
  },
  "language_info": {
   "codemirror_mode": {
    "name": "ipython",
    "version": 3
   },
   "file_extension": ".py",
   "mimetype": "text/x-python",
   "name": "python",
   "nbconvert_exporter": "python",
   "pygments_lexer": "ipython3",
   "version": "3.13.7"
  }
 },
 "nbformat": 4,
 "nbformat_minor": 5
}
