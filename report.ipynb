{
 "cells": [
  {
   "cell_type": "code",
   "execution_count": 2,
   "id": "d4814684",
   "metadata": {},
   "outputs": [
    {
     "name": "stdout",
     "output_type": "stream",
     "text": [
      "<class 'pandas.core.frame.DataFrame'>\n",
      "RangeIndex: 2500 entries, 0 to 2499\n",
      "Data columns (total 7 columns):\n",
      " #   Column    Non-Null Count  Dtype  \n",
      "---  ------    --------------  -----  \n",
      " 0   order_id  2500 non-null   int64  \n",
      " 1   date      2500 non-null   object \n",
      " 2   city      2500 non-null   object \n",
      " 3   category  2500 non-null   object \n",
      " 4   price     2500 non-null   float64\n",
      " 5   units     2500 non-null   int64  \n",
      " 6   revenue   2500 non-null   float64\n",
      "dtypes: float64(2), int64(2), object(3)\n",
      "memory usage: 136.8+ KB\n"
     ]
    }
   ],
   "source": [
    "import sys\n",
    "sys.path.append('./src')\n",
    "\n",
    "import io_utils\n",
    "import metrics\n",
    "\n",
    "df = io_utils.get_df()\n",
    "\n",
    "df.info()\n",
    "\n",
    "#df.head()"
   ]
  },
  {
   "cell_type": "markdown",
   "id": "7d2d071e",
   "metadata": {},
   "source": [
    "### 1. Vad säljer vi? – vilka kategorier driver mest intäkt?\n",
    "Kategorier 'Electronics', 'Sports' respektive ' Clothing' driver mest intäkt."
   ]
  },
  {
   "cell_type": "code",
   "execution_count": null,
   "id": "27444312",
   "metadata": {},
   "outputs": [],
   "source": [
    "from metrics import unique_products, category_revenue\n",
    "\n",
    "print(f\"Vi säljer följande unika kategorier: \\n {unique_products}\")\n",
    "\n",
    "print(f\"\\nIntäkt per kategori: \\n {category_revenue}\")"
   ]
  },
  {
   "cell_type": "code",
   "execution_count": null,
   "id": "e25213fa",
   "metadata": {},
   "outputs": [],
   "source": [
    "import matplotlib.pyplot as plt\n",
    "\n",
    "\n",
    "fig, ax =plt.subplots()\n",
    "category_revenue.plot(kind=\"bar\", ax=ax)\n",
    "ax.set_title(\"Intäkt per kategorie\")\n",
    "ax.set_xlabel(\"Kategorie\")\n",
    "ax.set_ylabel(\"Intäkt\")\n",
    "ax.grid(True, axis='y')\n",
    "plt.tight_layout()\n",
    "plt.show()"
   ]
  },
  {
   "cell_type": "markdown",
   "id": "4f79ec18",
   "metadata": {},
   "source": [
    "### 2. Var säljer vi? – vilka städer står för störst intäkt?\n",
    "Stockholm, Göteborg respektive Malmö står för störst intakt"
   ]
  },
  {
   "cell_type": "code",
   "execution_count": null,
   "id": "1e05c194",
   "metadata": {},
   "outputs": [],
   "source": [
    "from metrics import units_per_city, top_cities, category_per_city\n",
    "top_cities # sum of revenue per city"
   ]
  },
  {
   "cell_type": "code",
   "execution_count": null,
   "id": "b53587a7",
   "metadata": {},
   "outputs": [],
   "source": [
    "units_per_city #sum of units per category and city"
   ]
  },
  {
   "cell_type": "code",
   "execution_count": null,
   "id": "ec7d0960",
   "metadata": {},
   "outputs": [],
   "source": [
    "category_per_city #sum of revenue per category and city."
   ]
  },
  {
   "cell_type": "code",
   "execution_count": null,
   "id": "419141a2",
   "metadata": {},
   "outputs": [],
   "source": [
    "fig, ax = plt.subplots()\n",
    "category_per_city.plot(kind='bar', ax=ax)\n",
    "ax.set_title(\"Intäkter per stad och kategori\")\n",
    "ax.set_xlabel(\"Stad\")\n",
    "ax.set_ylabel(\"Intäkt\")\n",
    "ax.grid(True, axis='y')\n",
    "plt.tight_layout()\n",
    "plt.show()"
   ]
  },
  {
   "cell_type": "markdown",
   "id": "f3af9450",
   "metadata": {},
   "source": [
    "### 3. När säljer vi? – finns tidsmönster/säsong i försäljningen?\n"
   ]
  },
  {
   "cell_type": "code",
   "execution_count": 3,
   "id": "7d035c0b",
   "metadata": {},
   "outputs": [
    {
     "data": {
      "image/png": "[encoded data removed]",
      "text/plain": [
       "<Figure size 640x480 with 1 Axes>"
      ]
     },
     "metadata": {},
     "output_type": "display_data"
    }
   ],
   "source": [
    "import matplotlib.pyplot as plt\n",
    "import metrics\n",
    "\n",
    "\n",
    "rev_month = metrics.get_revenue_by_month()\n",
    "\n",
    "\n",
    "month_names = ['Jan', 'Feb', 'Mar', 'Apr', 'Maj', 'Jun', \n",
    "               'Jul', 'Aug', 'Sep', 'Okt', 'Nov', 'Dec']\n",
    "\n",
    "rev_month.index = [month_names[int(m)-1] if str(m).isdigit() else m for m in rev_month.index]\n",
    "rev_month.plot(kind='bar', title='Intäkt per månad')\n",
    "plt.ylabel('Intäkt')\n",
    "plt.show()"
   ]
  },
  {
   "cell_type": "code",
   "execution_count": 8,
   "id": "df0e23f2",
   "metadata": {},
   "outputs": [
    {
     "name": "stdout",
     "output_type": "stream",
     "text": [
      "Jan    664083.32\n",
      "Maj    632165.16\n",
      "Jun    590259.89\n",
      "Apr    580194.83\n",
      "Feb    548462.03\n",
      "Mar    487602.00\n",
      "Name: revenue, dtype: float64\n",
      "\n",
      "day\n",
      "9     156486.43\n",
      "4     142734.92\n",
      "23    137403.39\n",
      "7     134633.50\n",
      "25    130511.88\n",
      "21    129325.48\n",
      "10    128955.11\n",
      "26    128417.60\n",
      "17    128181.58\n",
      "16    127302.09\n",
      "27    126773.85\n",
      "1     125049.07\n",
      "3     118576.22\n",
      "29    116672.81\n",
      "18    113459.03\n",
      "13    113412.81\n",
      "6     112371.59\n",
      "24    109436.14\n",
      "28    108897.74\n",
      "19    108571.86\n",
      "8     107904.44\n",
      "22    105843.54\n",
      "20    104509.51\n",
      "15     97686.86\n",
      "2      97440.77\n",
      "12     94719.45\n",
      "5      86780.50\n",
      "14     86106.95\n",
      "11     84378.76\n",
      "30     81256.48\n",
      "31     58966.87\n",
      "Name: revenue, dtype: float64\n"
     ]
    }
   ],
   "source": [
    "from metrics import revenue_by_day, revenue_by_month\n",
    "print(revenue_by_month)\n",
    "print()\n",
    "print(revenue_by_day)\n",
    "\n",
    "def get_revenue_by_month():\n",
    "    return revenue_by_month"
   ]
  },
  {
   "cell_type": "markdown",
   "id": "fed1958a",
   "metadata": {},
   "source": [
    "### 4. Hur ser en typisk order ut? – AOV (Average Order Value) och spridning.\n"
   ]
  },
  {
   "cell_type": "code",
   "execution_count": null,
   "id": "22ed2559",
   "metadata": {},
   "outputs": [],
   "source": []
  },
  {
   "cell_type": "markdown",
   "id": "f770c6b6",
   "metadata": {},
   "source": [
    "### 5. Topp-listor – topp-3 kategorier efter intäkt.\n"
   ]
  },
  {
   "cell_type": "code",
   "execution_count": null,
   "id": "bce682d0",
   "metadata": {},
   "outputs": [],
   "source": [
    "# Summera intäkt per kategori\n",
    "kategori_sum = df.groupby(\"category\")[\"revenue\"].sum()\n",
    "\n",
    "# Plocka fram topp 3\n",
    "top3 = kategori_sum.nlargest(3)\n",
    "\n",
    "# Totala intäkten (avrundad uppåt till närmaste 500, med min 1000)\n",
    "total = kategori_sum.sum()\n",
    "total_rounded = max(1000, int(np.ceil(total / 500.0) * 500))\n",
    "\n",
    "print(\"Top 3 kategorier baserat på intäkt:\")\n",
    "print(top3)\n",
    "print(f\"\\nTotal intäkt: {total} (avrundad till {total_rounded})\")"
   ]
  },
  {
   "cell_type": "markdown",
   "id": "ed92ab77",
   "metadata": {},
   "source": [
    "### 6. Eventuella avvikelser – något oväntat mönster som sticker ut?\n"
   ]
  },
  {
   "cell_type": "code",
   "execution_count": null,
   "id": "b65cf451",
   "metadata": {},
   "outputs": [],
   "source": []
  },
  {
   "cell_type": "markdown",
   "id": "158ec678",
   "metadata": {},
   "source": [
    "### Rekommendationer:\n",
    "\n",
    "Ni ska avsluta rapporten med 2–3 korta rekommendationer (punktlista) baserat på era resultat, t.ex. “Satsa på kategori X i stad Y under månad Z”."
   ]
  }
 ],
 "metadata": {
  "kernelspec": {
   "display_name": ".venv",
   "language": "python",
   "name": "python3"
  },
  "language_info": {
   "codemirror_mode": {
    "name": "ipython",
    "version": 3
   },
   "file_extension": ".py",
   "mimetype": "text/x-python",
   "name": "python",
   "nbconvert_exporter": "python",
   "pygments_lexer": "ipython3",
   "version": "3.13.7"
  }
 },
 "nbformat": 4,
 "nbformat_minor": 5
}
