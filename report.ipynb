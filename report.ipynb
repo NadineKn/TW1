{
 "cells": [
  {
   "cell_type": "code",
   "execution_count": 1,
   "id": "d4814684",
   "metadata": {},
   "outputs": [
    {
     "name": "stdout",
     "output_type": "stream",
     "text": [
      "day\n",
      "9     156486.43\n",
      "4     142734.92\n",
      "23    137403.39\n",
      "7     134633.50\n",
      "25    130511.88\n",
      "21    129325.48\n",
      "10    128955.11\n",
      "26    128417.60\n",
      "17    128181.58\n",
      "16    127302.09\n",
      "27    126773.85\n",
      "1     125049.07\n",
      "3     118576.22\n",
      "29    116672.81\n",
      "18    113459.03\n",
      "13    113412.81\n",
      "6     112371.59\n",
      "24    109436.14\n",
      "28    108897.74\n",
      "19    108571.86\n",
      "8     107904.44\n",
      "22    105843.54\n",
      "20    104509.51\n",
      "15     97686.86\n",
      "2      97440.77\n",
      "12     94719.45\n",
      "5      86780.50\n",
      "14     86106.95\n",
      "11     84378.76\n",
      "30     81256.48\n",
      "31     58966.87\n",
      "Name: revenue, dtype: float64\n",
      "month\n",
      "1    664083.32\n",
      "5    632165.16\n",
      "6    590259.89\n",
      "4    580194.83\n",
      "2    548462.03\n",
      "3    487602.00\n",
      "Name: revenue, dtype: float64\n",
      "<class 'pandas.core.frame.DataFrame'>\n",
      "RangeIndex: 2500 entries, 0 to 2499\n",
      "Data columns (total 7 columns):\n",
      " #   Column    Non-Null Count  Dtype  \n",
      "---  ------    --------------  -----  \n",
      " 0   order_id  2500 non-null   int64  \n",
      " 1   date      2500 non-null   object \n",
      " 2   city      2500 non-null   object \n",
      " 3   category  2500 non-null   object \n",
      " 4   price     2500 non-null   float64\n",
      " 5   units     2500 non-null   int64  \n",
      " 6   revenue   2500 non-null   float64\n",
      "dtypes: float64(2), int64(2), object(3)\n",
      "memory usage: 136.8+ KB\n"
     ]
    }
   ],
   "source": [
    "import sys\n",
    "sys.path.append('./src')\n",
    "\n",
    "import io_utils\n",
    "import metrics\n",
    "\n",
    "df = io_utils.get_df()\n",
    "\n",
    "df.info()\n",
    "\n",
    "#df.head()"
   ]
  },
  {
   "cell_type": "markdown",
   "id": "7d2d071e",
   "metadata": {},
   "source": [
    "### 1. Vad säljer vi? – vilka kategorier driver mest intäkt?\n",
    "Kategorier 'Electronics', 'Sports' respektive ' Clothing' driver mest intäkt."
   ]
  },
  {
   "cell_type": "code",
   "execution_count": 2,
   "id": "27444312",
   "metadata": {},
   "outputs": [
    {
     "name": "stdout",
     "output_type": "stream",
     "text": [
      "Vi säljer följande unika kategorier: \n",
      " ['Sports' 'Clothing' 'Home' 'Electronics' 'Toys' 'Beauty']\n",
      "\n",
      "Intäkt per kategori: \n",
      " category\n",
      "Electronics    1364228.07\n",
      "Sports          734653.42\n",
      "Clothing        586744.91\n",
      "Home            511070.87\n",
      "Beauty          163053.97\n",
      "Toys            143015.99\n",
      "Name: revenue, dtype: float64\n"
     ]
    }
   ],
   "source": [
    "from metrics import unique_products, category_revenue\n",
    "\n",
    "print(f\"Vi säljer följande unika kategorier: \\n {unique_products}\")\n",
    "\n",
    "print(f\"\\nIntäkt per kategori: \\n {category_revenue}\")"
   ]
  },
  {
   "cell_type": "code",
   "execution_count": 3,
   "id": "e25213fa",
   "metadata": {},
   "outputs": [
    {
     "data": {
      "image/png": "[encoded data removed]",
      "text/plain": [
       "<Figure size 640x480 with 1 Axes>"
      ]
     },
     "metadata": {},
     "output_type": "display_data"
    }
   ],
   "source": [
    "import matplotlib.pyplot as plt\n",
    "\n",
    "\n",
    "fig, ax =plt.subplots()\n",
    "category_revenue.plot(kind=\"bar\", ax=ax)\n",
    "ax.set_title(\"Intäkt per kategorie\")\n",
    "ax.set_xlabel(\"Kategorie\")\n",
    "ax.set_ylabel(\"Intäkt\")\n",
    "ax.grid(True, axis='y')\n",
    "plt.tight_layout()\n",
    "plt.show()"
   ]
  },
  {
   "cell_type": "markdown",
   "id": "4f79ec18",
   "metadata": {},
   "source": [
    "### 2. Var säljer vi? – vilka städer står för störst intäkt?\n",
    "Stockholm, Göteborg respektive Malmö står för störst intakt"
   ]
  },
  {
   "cell_type": "code",
   "execution_count": 4,
   "id": "1e05c194",
   "metadata": {},
   "outputs": [
    {
     "data": {
      "application/vnd.microsoft.datawrangler.viewer.v0+json": {
       "columns": [
        {
         "name": "city",
         "rawType": "object",
         "type": "string"
        },
        {
         "name": "revenue",
         "rawType": "float64",
         "type": "float"
        }
       ],
       "ref": "c3383ee9-9a21-4bf1-82e2-3bf00b7efc14",
       "rows": [
        [
         "Stockholm",
         "1227201.94"
        ],
        [
         "Göteborg",
         "859019.65"
        ],
        [
         "Malmö",
         "567926.32"
        ],
        [
         "Uppsala",
         "551478.42"
        ],
        [
         "Västerås",
         "297140.9"
        ]
       ],
       "shape": {
        "columns": 1,
        "rows": 5
       }
      },
      "text/html": [
       "<div>\n",
       "<style scoped>\n",
       "    .dataframe tbody tr th:only-of-type {\n",
       "        vertical-align: middle;\n",
       "    }\n",
       "\n",
       "    .dataframe tbody tr th {\n",
       "        vertical-align: top;\n",
       "    }\n",
       "\n",
       "    .dataframe thead th {\n",
       "        text-align: right;\n",
       "    }\n",
       "</style>\n",
       "<table border=\"1\" class=\"dataframe\">\n",
       "  <thead>\n",
       "    <tr style=\"text-align: right;\">\n",
       "      <th></th>\n",
       "      <th>revenue</th>\n",
       "    </tr>\n",
       "    <tr>\n",
       "      <th>city</th>\n",
       "      <th></th>\n",
       "    </tr>\n",
       "  </thead>\n",
       "  <tbody>\n",
       "    <tr>\n",
       "      <th>Stockholm</th>\n",
       "      <td>1227201.94</td>\n",
       "    </tr>\n",
       "    <tr>\n",
       "      <th>Göteborg</th>\n",
       "      <td>859019.65</td>\n",
       "    </tr>\n",
       "    <tr>\n",
       "      <th>Malmö</th>\n",
       "      <td>567926.32</td>\n",
       "    </tr>\n",
       "    <tr>\n",
       "      <th>Uppsala</th>\n",
       "      <td>551478.42</td>\n",
       "    </tr>\n",
       "    <tr>\n",
       "      <th>Västerås</th>\n",
       "      <td>297140.90</td>\n",
       "    </tr>\n",
       "  </tbody>\n",
       "</table>\n",
       "</div>"
      ],
      "text/plain": [
       "              revenue\n",
       "city                 \n",
       "Stockholm  1227201.94\n",
       "Göteborg    859019.65\n",
       "Malmö       567926.32\n",
       "Uppsala     551478.42\n",
       "Västerås    297140.90"
      ]
     },
     "execution_count": 4,
     "metadata": {},
     "output_type": "execute_result"
    }
   ],
   "source": [
    "from metrics import units_per_city, top_cities, category_per_city\n",
    "top_cities # sum of revenue per city"
   ]
  },
  {
   "cell_type": "code",
   "execution_count": 5,
   "id": "b53587a7",
   "metadata": {},
   "outputs": [
    {
     "data": {
      "application/vnd.microsoft.datawrangler.viewer.v0+json": {
       "columns": [
        {
         "name": "city",
         "rawType": "object",
         "type": "string"
        },
        {
         "name": "Beauty",
         "rawType": "int64",
         "type": "integer"
        },
        {
         "name": "Clothing",
         "rawType": "int64",
         "type": "integer"
        },
        {
         "name": "Electronics",
         "rawType": "int64",
         "type": "integer"
        },
        {
         "name": "Home",
         "rawType": "int64",
         "type": "integer"
        },
        {
         "name": "Sports",
         "rawType": "int64",
         "type": "integer"
        },
        {
         "name": "Toys",
         "rawType": "int64",
         "type": "integer"
        }
       ],
       "ref": "86588cde-e6a2-489a-b044-8036470f0b24",
       "rows": [
        [
         "Göteborg",
         "162",
         "338",
         "425",
         "364",
         "341",
         "158"
        ],
        [
         "Malmö",
         "95",
         "228",
         "313",
         "215",
         "247",
         "113"
        ],
        [
         "Stockholm",
         "223",
         "574",
         "599",
         "419",
         "539",
         "265"
        ],
        [
         "Uppsala",
         "99",
         "303",
         "293",
         "171",
         "178",
         "121"
        ],
        [
         "Västerås",
         "80",
         "212",
         "123",
         "109",
         "96",
         "60"
        ]
       ],
       "shape": {
        "columns": 6,
        "rows": 5
       }
      },
      "text/html": [
       "<div>\n",
       "<style scoped>\n",
       "    .dataframe tbody tr th:only-of-type {\n",
       "        vertical-align: middle;\n",
       "    }\n",
       "\n",
       "    .dataframe tbody tr th {\n",
       "        vertical-align: top;\n",
       "    }\n",
       "\n",
       "    .dataframe thead th {\n",
       "        text-align: right;\n",
       "    }\n",
       "</style>\n",
       "<table border=\"1\" class=\"dataframe\">\n",
       "  <thead>\n",
       "    <tr style=\"text-align: right;\">\n",
       "      <th>category</th>\n",
       "      <th>Beauty</th>\n",
       "      <th>Clothing</th>\n",
       "      <th>Electronics</th>\n",
       "      <th>Home</th>\n",
       "      <th>Sports</th>\n",
       "      <th>Toys</th>\n",
       "    </tr>\n",
       "    <tr>\n",
       "      <th>city</th>\n",
       "      <th></th>\n",
       "      <th></th>\n",
       "      <th></th>\n",
       "      <th></th>\n",
       "      <th></th>\n",
       "      <th></th>\n",
       "    </tr>\n",
       "  </thead>\n",
       "  <tbody>\n",
       "    <tr>\n",
       "      <th>Göteborg</th>\n",
       "      <td>162</td>\n",
       "      <td>338</td>\n",
       "      <td>425</td>\n",
       "      <td>364</td>\n",
       "      <td>341</td>\n",
       "      <td>158</td>\n",
       "    </tr>\n",
       "    <tr>\n",
       "      <th>Malmö</th>\n",
       "      <td>95</td>\n",
       "      <td>228</td>\n",
       "      <td>313</td>\n",
       "      <td>215</td>\n",
       "      <td>247</td>\n",
       "      <td>113</td>\n",
       "    </tr>\n",
       "    <tr>\n",
       "      <th>Stockholm</th>\n",
       "      <td>223</td>\n",
       "      <td>574</td>\n",
       "      <td>599</td>\n",
       "      <td>419</td>\n",
       "      <td>539</td>\n",
       "      <td>265</td>\n",
       "    </tr>\n",
       "    <tr>\n",
       "      <th>Uppsala</th>\n",
       "      <td>99</td>\n",
       "      <td>303</td>\n",
       "      <td>293</td>\n",
       "      <td>171</td>\n",
       "      <td>178</td>\n",
       "      <td>121</td>\n",
       "    </tr>\n",
       "    <tr>\n",
       "      <th>Västerås</th>\n",
       "      <td>80</td>\n",
       "      <td>212</td>\n",
       "      <td>123</td>\n",
       "      <td>109</td>\n",
       "      <td>96</td>\n",
       "      <td>60</td>\n",
       "    </tr>\n",
       "  </tbody>\n",
       "</table>\n",
       "</div>"
      ],
      "text/plain": [
       "category   Beauty  Clothing  Electronics  Home  Sports  Toys\n",
       "city                                                        \n",
       "Göteborg      162       338          425   364     341   158\n",
       "Malmö          95       228          313   215     247   113\n",
       "Stockholm     223       574          599   419     539   265\n",
       "Uppsala        99       303          293   171     178   121\n",
       "Västerås       80       212          123   109      96    60"
      ]
     },
     "execution_count": 5,
     "metadata": {},
     "output_type": "execute_result"
    }
   ],
   "source": [
    "units_per_city #sum of units per category and city"
   ]
  },
  {
   "cell_type": "code",
   "execution_count": 6,
   "id": "ec7d0960",
   "metadata": {},
   "outputs": [
    {
     "data": {
      "application/vnd.microsoft.datawrangler.viewer.v0+json": {
       "columns": [
        {
         "name": "city",
         "rawType": "object",
         "type": "string"
        },
        {
         "name": "Beauty",
         "rawType": "float64",
         "type": "float"
        },
        {
         "name": "Clothing",
         "rawType": "float64",
         "type": "float"
        },
        {
         "name": "Electronics",
         "rawType": "float64",
         "type": "float"
        },
        {
         "name": "Home",
         "rawType": "float64",
         "type": "float"
        },
        {
         "name": "Sports",
         "rawType": "float64",
         "type": "float"
        },
        {
         "name": "Toys",
         "rawType": "float64",
         "type": "float"
        }
       ],
       "ref": "ff67205a-79c6-458a-9e08-8337c0d47b13",
       "rows": [
        [
         "Göteborg",
         "42693.2",
         "128566.21",
         "340629.3",
         "137851.89",
         "173114.38999999998",
         "36164.659999999996"
        ],
        [
         "Malmö",
         "22151.71",
         "77554.64",
         "234714.72",
         "89276.45",
         "123529.31999999999",
         "20699.48"
        ],
        [
         "Stockholm",
         "50001.83",
         "206055.77",
         "457852.44",
         "166671.91",
         "292130.97",
         "54489.02"
        ],
        [
         "Uppsala",
         "27956.39",
         "102399.82",
         "236362.78",
         "71514.22",
         "92307.53",
         "20937.68"
        ],
        [
         "Västerås",
         "20250.84",
         "72168.47",
         "94668.83",
         "45756.4",
         "53571.21",
         "10725.15"
        ]
       ],
       "shape": {
        "columns": 6,
        "rows": 5
       }
      },
      "text/html": [
       "<div>\n",
       "<style scoped>\n",
       "    .dataframe tbody tr th:only-of-type {\n",
       "        vertical-align: middle;\n",
       "    }\n",
       "\n",
       "    .dataframe tbody tr th {\n",
       "        vertical-align: top;\n",
       "    }\n",
       "\n",
       "    .dataframe thead th {\n",
       "        text-align: right;\n",
       "    }\n",
       "</style>\n",
       "<table border=\"1\" class=\"dataframe\">\n",
       "  <thead>\n",
       "    <tr style=\"text-align: right;\">\n",
       "      <th>category</th>\n",
       "      <th>Beauty</th>\n",
       "      <th>Clothing</th>\n",
       "      <th>Electronics</th>\n",
       "      <th>Home</th>\n",
       "      <th>Sports</th>\n",
       "      <th>Toys</th>\n",
       "    </tr>\n",
       "    <tr>\n",
       "      <th>city</th>\n",
       "      <th></th>\n",
       "      <th></th>\n",
       "      <th></th>\n",
       "      <th></th>\n",
       "      <th></th>\n",
       "      <th></th>\n",
       "    </tr>\n",
       "  </thead>\n",
       "  <tbody>\n",
       "    <tr>\n",
       "      <th>Göteborg</th>\n",
       "      <td>42693.20</td>\n",
       "      <td>128566.21</td>\n",
       "      <td>340629.30</td>\n",
       "      <td>137851.89</td>\n",
       "      <td>173114.39</td>\n",
       "      <td>36164.66</td>\n",
       "    </tr>\n",
       "    <tr>\n",
       "      <th>Malmö</th>\n",
       "      <td>22151.71</td>\n",
       "      <td>77554.64</td>\n",
       "      <td>234714.72</td>\n",
       "      <td>89276.45</td>\n",
       "      <td>123529.32</td>\n",
       "      <td>20699.48</td>\n",
       "    </tr>\n",
       "    <tr>\n",
       "      <th>Stockholm</th>\n",
       "      <td>50001.83</td>\n",
       "      <td>206055.77</td>\n",
       "      <td>457852.44</td>\n",
       "      <td>166671.91</td>\n",
       "      <td>292130.97</td>\n",
       "      <td>54489.02</td>\n",
       "    </tr>\n",
       "    <tr>\n",
       "      <th>Uppsala</th>\n",
       "      <td>27956.39</td>\n",
       "      <td>102399.82</td>\n",
       "      <td>236362.78</td>\n",
       "      <td>71514.22</td>\n",
       "      <td>92307.53</td>\n",
       "      <td>20937.68</td>\n",
       "    </tr>\n",
       "    <tr>\n",
       "      <th>Västerås</th>\n",
       "      <td>20250.84</td>\n",
       "      <td>72168.47</td>\n",
       "      <td>94668.83</td>\n",
       "      <td>45756.40</td>\n",
       "      <td>53571.21</td>\n",
       "      <td>10725.15</td>\n",
       "    </tr>\n",
       "  </tbody>\n",
       "</table>\n",
       "</div>"
      ],
      "text/plain": [
       "category     Beauty   Clothing  Electronics       Home     Sports      Toys\n",
       "city                                                                       \n",
       "Göteborg   42693.20  128566.21    340629.30  137851.89  173114.39  36164.66\n",
       "Malmö      22151.71   77554.64    234714.72   89276.45  123529.32  20699.48\n",
       "Stockholm  50001.83  206055.77    457852.44  166671.91  292130.97  54489.02\n",
       "Uppsala    27956.39  102399.82    236362.78   71514.22   92307.53  20937.68\n",
       "Västerås   20250.84   72168.47     94668.83   45756.40   53571.21  10725.15"
      ]
     },
     "execution_count": 6,
     "metadata": {},
     "output_type": "execute_result"
    }
   ],
   "source": [
    "category_per_city #sum of revenue per category and city."
   ]
  },
  {
   "cell_type": "code",
   "execution_count": 7,
   "id": "419141a2",
   "metadata": {},
   "outputs": [
    {
     "data": {
      "image/png": "[encoded data removed]",
      "text/plain": [
       "<Figure size 640x480 with 1 Axes>"
      ]
     },
     "metadata": {},
     "output_type": "display_data"
    }
   ],
   "source": [
    "fig, ax = plt.subplots()\n",
    "category_per_city.plot(kind='bar', ax=ax)\n",
    "ax.set_title(\"Intäkter per stad och kategori\")\n",
    "ax.set_xlabel(\"Stad\")\n",
    "ax.set_ylabel(\"Intäkt\")\n",
    "ax.grid(True, axis='y')\n",
    "plt.tight_layout()\n",
    "plt.show()"
   ]
  },
  {
   "cell_type": "markdown",
   "id": "f3af9450",
   "metadata": {},
   "source": [
    "### 3. När säljer vi? – finns tidsmönster/säsong i försäljningen?\n"
   ]
  },
  {
   "cell_type": "code",
   "execution_count": 8,
   "id": "7d035c0b",
   "metadata": {},
   "outputs": [
    {
     "data": {
      "image/png": "[encoded data removed]",
      "text/plain": [
       "<Figure size 640x480 with 1 Axes>"
      ]
     },
     "metadata": {},
     "output_type": "display_data"
    }
   ],
   "source": [
    "import matplotlib.pyplot as plt\n",
    "import metrics\n",
    "\n",
    "\n",
    "rev_month = metrics.get_revenue_by_month()\n",
    "\n",
    "\n",
    "month_names = ['Jan', 'Feb', 'Mar', 'Apr', 'Maj', 'Jun', \n",
    "               'Jul', 'Aug', 'Sep', 'Okt', 'Nov', 'Dec']\n",
    "\n",
    "rev_month.index = [month_names[int(m)-1] if str(m).isdigit() else m for m in rev_month.index]\n",
    "rev_month.plot(kind='bar', title='Intäkt per månad')\n",
    "plt.ylabel('Intäkt')\n",
    "plt.show()"
   ]
  },
  {
   "cell_type": "markdown",
   "id": "fed1958a",
   "metadata": {},
   "source": [
    "### 4. Hur ser en typisk order ut? – AOV (Average Order Value) och spridning.\n"
   ]
  },
  {
   "cell_type": "code",
   "execution_count": null,
   "id": "22ed2559",
   "metadata": {},
   "outputs": [],
   "source": []
  },
  {
   "cell_type": "markdown",
   "id": "f770c6b6",
   "metadata": {},
   "source": [
    "### 5. Topp-listor – topp-3 kategorier efter intäkt.\n"
   ]
  },
  {
   "cell_type": "code",
   "execution_count": null,
   "id": "bce682d0",
   "metadata": {},
   "outputs": [],
   "source": []
  },
  {
   "cell_type": "markdown",
   "id": "ed92ab77",
   "metadata": {},
   "source": [
    "### 6. Eventuella avvikelser – något oväntat mönster som sticker ut?\n"
   ]
  },
  {
   "cell_type": "code",
   "execution_count": null,
   "id": "b65cf451",
   "metadata": {},
   "outputs": [],
   "source": []
  },
  {
   "cell_type": "markdown",
   "id": "158ec678",
   "metadata": {},
   "source": [
    "### Rekommendationer:\n",
    "\n",
    "Ni ska avsluta rapporten med 2–3 korta rekommendationer (punktlista) baserat på era resultat, t.ex. “Satsa på kategori X i stad Y under månad Z”."
   ]
  }
 ],
 "metadata": {
  "kernelspec": {
   "display_name": "Python 3",
   "language": "python",
   "name": "python3"
  },
  "language_info": {
   "codemirror_mode": {
    "name": "ipython",
    "version": 3
   },
   "file_extension": ".py",
   "mimetype": "text/x-python",
   "name": "python",
   "nbconvert_exporter": "python",
   "pygments_lexer": "ipython3",
   "version": "3.13.7"
  }
 },
 "nbformat": 4,
 "nbformat_minor": 5
}
