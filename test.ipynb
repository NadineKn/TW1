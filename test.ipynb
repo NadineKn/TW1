{
 "cells": [
  {
   "cell_type": "code",
   "execution_count": null,
   "id": "2ff1603a-24d8-433d-a809-982f5189a4ee",
   "metadata": {},
   "outputs": [],
   "source": [
    "test \n"
   ]
  }
 ],
 "metadata": {
  "kernelspec": {
   "display_name": "Python 3 (ipykernel)",
   "language": "python",
   "name": "python3"
  },
  "language_info": {
   "codemirror_mode": {
    "name": "ipython",
    "version": 3
   },
   "file_extension": ".py",
   "mimetype": "text/x-python",
   "name": "python",
   "nbconvert_exporter": "python",
   "pygments_lexer": "ipython3",
   "version": "3.13.7"
  }
 },
 "nbformat": 4,
 "nbformat_minor": 5
}
